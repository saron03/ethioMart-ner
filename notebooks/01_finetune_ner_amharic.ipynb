{
 "cells": [
  {
   "cell_type": "markdown",
   "id": "619b783d-9997-40d5-a891-ff31303bf37d",
   "metadata": {},
   "source": [
    "# Task 3: Training and Evaluating an NER Model with Hugging Face Transformers\n",
    "\n",
    "In this task, we fine-tuned a pretrained transformer model (e.g., XLM-R) for Named Entity Recognition (NER) on the Amharic dataset.\n",
    "\n",
    "## Key Steps\n",
    "\n",
    "- **Set up TrainingArguments:** Configure hyperparameters like learning rate, batch size, epochs, and evaluation strategy.\n",
    "- **Define compute_metrics:** Use `seqeval` to calculate accuracy and F1 scores on evaluation data.\n",
    "- **Initialize Trainer:** Pass the model, training arguments, datasets, tokenizer, data collator, and metric function.\n",
    "- **Train the model:** Run `trainer.train()` to fine-tune.\n",
    "- **Evaluate and save:** Evaluate model performance on the test set and save the fine-tuned model.\n",
    "\n",
    "## Output\n",
    "\n",
    "Training logs show loss, accuracy, and F1 score per epoch. Final evaluation metrics provide a quantitative measure of model performance.\n",
    "\n",
    "---\n",
    "\n",
    "This process enables effective fine-tuning of transformer-based NER models on custom datasets with ease."
   ]
  },
  {
   "cell_type": "markdown",
   "id": "7cef1748-2f19-4a0f-8d1d-5f2cbb80be67",
   "metadata": {},
   "source": [
    "import sys\n",
    "sys.path.append('C:/Users/saron/OneDrive/Desktop/kifya/week4/ethioMart-ner')  \n",
    "from utils.data_utils import parse_conll\n",
    "from datasets import Dataset\n",
    "import pandas as pd\n",
    "\n",
    "tokens, tags = parse_conll(\"../data/labeled_data.conll\")\n",
    "\n",
    "data = [{\"tokens\": t, \"ner_tags\": l} for t, l in zip(tokens, tags)]\n",
    "dataset = Dataset.from_list(data)\n",
    "dataset = dataset.train_test_split(test_size=0.2)\n"
   ]
  },
  {
   "cell_type": "code",
   "execution_count": 2,
   "id": "3b644da7-fb9c-4b77-a248-8631346de5db",
   "metadata": {},
   "outputs": [],
   "source": [
    "from transformers import AutoTokenizer\n",
    "\n",
    "label_list = ['O', 'B-LOC', 'I-LOC', 'B-Product', 'I-Product', 'B-PRICE', 'I-PRICE']\n",
    "label2id = {label: i for i, label in enumerate(label_list)}\n",
    "id2label = {i: label for label, i in label2id.items()}\n",
    "\n",
    "model_name = \"Davlan/afro-xlmr-base\"  # or \"GeezTech/bert-tiny-amharic\"\n",
    "tokenizer = AutoTokenizer.from_pretrained(model_name)\n"
   ]
  },
  {
   "cell_type": "code",
   "execution_count": 3,
   "id": "cb117aa4-64d4-4d66-b171-2489c3c61c81",
   "metadata": {},
   "outputs": [
    {
     "data": {
      "application/vnd.jupyter.widget-view+json": {
       "model_id": "a1693a9ed4de4b89a7f70425d114ef2d",
       "version_major": 2,
       "version_minor": 0
      },
      "text/plain": [
       "Map:   0%|          | 0/40 [00:00<?, ? examples/s]"
      ]
     },
     "metadata": {},
     "output_type": "display_data"
    },
    {
     "data": {
      "application/vnd.jupyter.widget-view+json": {
       "model_id": "a6e1828c04234be4a29e3e1377d6f2bd",
       "version_major": 2,
       "version_minor": 0
      },
      "text/plain": [
       "Map:   0%|          | 0/10 [00:00<?, ? examples/s]"
      ]
     },
     "metadata": {},
     "output_type": "display_data"
    }
   ],
   "source": [
    "from transformers import DataCollatorForTokenClassification\n",
    "\n",
    "# Step 3: Build label2id and id2label mappings\n",
    "unique_labels = set(label for split in dataset.values() for doc in split[\"ner_tags\"] for label in doc)\n",
    "label_list = sorted(unique_labels)\n",
    "label2id = {label: idx for idx, label in enumerate(label_list)}\n",
    "id2label = {idx: label for label, idx in label2id.items()}\n",
    "\n",
    "# Step 4: Tokenization and alignment\n",
    "def tokenize_and_align(examples):\n",
    "    tokenized_inputs = tokenizer(\n",
    "        examples[\"tokens\"],\n",
    "        truncation=True,\n",
    "        is_split_into_words=True,\n",
    "    )\n",
    "    labels = []\n",
    "    for i, label in enumerate(examples[\"ner_tags\"]):\n",
    "        word_ids = tokenized_inputs.word_ids(batch_index=i)\n",
    "        previous_word_idx = None\n",
    "        label_ids = []\n",
    "        for word_idx in word_ids:\n",
    "            if word_idx is None:\n",
    "                label_ids.append(-100)\n",
    "            elif word_idx != previous_word_idx:\n",
    "                label_ids.append(label2id[label[word_idx]])\n",
    "            else:\n",
    "                label_ids.append(label2id[label[word_idx]])\n",
    "            previous_word_idx = word_idx\n",
    "        labels.append(label_ids)\n",
    "    tokenized_inputs[\"labels\"] = labels\n",
    "    return tokenized_inputs\n",
    "\n",
    "# Step 5: Apply to dataset\n",
    "tokenized_dataset = dataset.map(tokenize_and_align, batched=True)\n",
    "\n",
    "# Step 6: Create the data collator\n",
    "data_collator = DataCollatorForTokenClassification(tokenizer=tokenizer)\n"
   ]
  },
  {
   "cell_type": "code",
   "execution_count": 4,
   "id": "2e70a841-007e-4f02-b60d-c4897d11462b",
   "metadata": {},
   "outputs": [
    {
     "data": {
      "application/vnd.jupyter.widget-view+json": {
       "model_id": "603182080dee4c5e9d170397ffe5f2ca",
       "version_major": 2,
       "version_minor": 0
      },
      "text/plain": [
       "config.json:   0%|          | 0.00/980 [00:00<?, ?B/s]"
      ]
     },
     "metadata": {},
     "output_type": "display_data"
    },
    {
     "data": {
      "application/vnd.jupyter.widget-view+json": {
       "model_id": "782d2e22bd964be09127c73b88325eb4",
       "version_major": 2,
       "version_minor": 0
      },
      "text/plain": [
       "model.safetensors:   0%|          | 0.00/1.11G [00:00<?, ?B/s]"
      ]
     },
     "metadata": {},
     "output_type": "display_data"
    }
   ],
   "source": [
    "from transformers import AutoModelForTokenClassification\n",
    "\n",
    "model_name = \"Davlan/xlm-roberta-base-ner-hrl\"\n",
    "\n",
    "model = AutoModelForTokenClassification.from_pretrained(\n",
    "    model_name,\n",
    "    num_labels=len(label_list),\n",
    "    id2label=id2label,\n",
    "    label2id=label2id\n",
    ")\n"
   ]
  },
  {
   "cell_type": "code",
   "execution_count": 10,
   "id": "524f6d5d-3fa4-48f9-84be-ce60bb249a41",
   "metadata": {},
   "outputs": [
    {
     "name": "stdout",
     "output_type": "stream",
     "text": [
      "Starting training...\n"
     ]
    },
    {
     "name": "stderr",
     "output_type": "stream",
     "text": [
      "C:\\Users\\saron\\AppData\\Local\\Temp\\ipykernel_20520\\772315629.py:33: FutureWarning: `tokenizer` is deprecated and will be removed in version 5.0.0 for `Trainer.__init__`. Use `processing_class` instead.\n",
      "  trainer = Trainer(\n"
     ]
    },
    {
     "data": {
      "text/html": [
       "\n",
       "    <div>\n",
       "      \n",
       "      <progress value='5' max='5' style='width:300px; height:20px; vertical-align: middle;'></progress>\n",
       "      [5/5 01:21, Epoch 1/1]\n",
       "    </div>\n",
       "    <table border=\"1\" class=\"dataframe\">\n",
       "  <thead>\n",
       " <tr style=\"text-align: left;\">\n",
       "      <th>Epoch</th>\n",
       "      <th>Training Loss</th>\n",
       "      <th>Validation Loss</th>\n",
       "      <th>Accuracy</th>\n",
       "      <th>F1</th>\n",
       "    </tr>\n",
       "  </thead>\n",
       "  <tbody>\n",
       "    <tr>\n",
       "      <td>1</td>\n",
       "      <td>0.169900</td>\n",
       "      <td>0.108169</td>\n",
       "      <td>0.981112</td>\n",
       "      <td>0.853081</td>\n",
       "    </tr>\n",
       "  </tbody>\n",
       "</table><p>"
      ],
      "text/plain": [
       "<IPython.core.display.HTML object>"
      ]
     },
     "metadata": {},
     "output_type": "display_data"
    },
    {
     "name": "stderr",
     "output_type": "stream",
     "text": [
      "C:\\Users\\saron\\AppData\\Local\\Programs\\Python\\Python311\\Lib\\site-packages\\torch\\utils\\data\\dataloader.py:665: UserWarning: 'pin_memory' argument is set as true but no accelerator is found, then device pinned memory won't be used.\n",
      "  warnings.warn(warn_msg)\n"
     ]
    },
    {
     "name": "stdout",
     "output_type": "stream",
     "text": [
      "Training finished!\n"
     ]
    },
    {
     "data": {
      "text/html": [
       "\n",
       "    <div>\n",
       "      \n",
       "      <progress value='4' max='2' style='width:300px; height:20px; vertical-align: middle;'></progress>\n",
       "      [2/2 01:08]\n",
       "    </div>\n",
       "    "
      ],
      "text/plain": [
       "<IPython.core.display.HTML object>"
      ]
     },
     "metadata": {},
     "output_type": "display_data"
    },
    {
     "name": "stdout",
     "output_type": "stream",
     "text": [
      "Evaluation metrics: {'eval_loss': 0.10816903412342072, 'eval_accuracy': 0.9811117107393416, 'eval_f1': 0.8530805687203791, 'eval_runtime': 4.6795, 'eval_samples_per_second': 2.137, 'eval_steps_per_second': 0.427, 'epoch': 1.0}\n"
     ]
    }
   ],
   "source": [
    "import sys\n",
    "from transformers import TrainingArguments, Trainer\n",
    "from seqeval.metrics import accuracy_score, f1_score\n",
    "import logging\n",
    "\n",
    "logging.basicConfig(level=logging.INFO)\n",
    "\n",
    "args = TrainingArguments(\n",
    "    output_dir=\"./results\",\n",
    "    eval_strategy=\"epoch\",\n",
    "    learning_rate=2e-5,\n",
    "    per_device_train_batch_size=8,\n",
    "    per_device_eval_batch_size=8,\n",
    "    num_train_epochs=1,\n",
    "    weight_decay=0.01,\n",
    "    logging_dir=\"./logs\",\n",
    "    logging_strategy=\"steps\",\n",
    "    logging_steps=1,\n",
    "    report_to=None,\n",
    "    disable_tqdm=False,\n",
    ")\n",
    "\n",
    "def compute_metrics(eval_pred):\n",
    "    predictions, labels = eval_pred\n",
    "    predictions = predictions.argmax(axis=-1)\n",
    "    true_labels = [[label_list[l] for l in label if l != -100] for label in labels]\n",
    "    true_preds = [[label_list[p] for p, l in zip(pred, label) if l != -100] for pred, label in zip(predictions, labels)]\n",
    "    return {\n",
    "        \"accuracy\": accuracy_score(true_labels, true_preds),\n",
    "        \"f1\": f1_score(true_labels, true_preds),\n",
    "    }\n",
    "\n",
    "trainer = Trainer(\n",
    "    model=model,\n",
    "    args=args,\n",
    "    train_dataset=tokenized_dataset[\"train\"],\n",
    "    eval_dataset=tokenized_dataset[\"test\"],\n",
    "    tokenizer=tokenizer,\n",
    "    data_collator=data_collator,\n",
    "    compute_metrics=compute_metrics,\n",
    ")\n",
    "\n",
    "print(\"Starting training...\")\n",
    "sys.stdout.flush()\n",
    "trainer.train()\n",
    "print(\"Training finished!\")\n",
    "sys.stdout.flush()\n",
    "\n",
    "metrics = trainer.evaluate()\n",
    "print(\"Evaluation metrics:\", metrics)\n",
    "sys.stdout.flush()\n",
    "\n",
    "trainer.save_model(\"../models/amharic_ner_xlmr\")\n"
   ]
  },
  {
   "cell_type": "code",
   "execution_count": 11,
   "id": "1f362faa-b220-4b0c-b727-610d9d69a732",
   "metadata": {},
   "outputs": [
    {
     "name": "stdout",
     "output_type": "stream",
     "text": [
      "{'eval_loss': 0.10816903412342072, 'eval_accuracy': 0.9811117107393416, 'eval_f1': 0.8530805687203791, 'eval_runtime': 4.8258, 'eval_samples_per_second': 2.072, 'eval_steps_per_second': 0.414, 'epoch': 1.0}\n"
     ]
    }
   ],
   "source": [
    "results = trainer.evaluate()\n",
    "print(results)"
   ]
  }
 ],
 "metadata": {
  "kernelspec": {
   "display_name": "Python 3 (ipykernel)",
   "language": "python",
   "name": "python3"
  },
  "language_info": {
   "codemirror_mode": {
    "name": "ipython",
    "version": 3
   },
   "file_extension": ".py",
   "mimetype": "text/x-python",
   "name": "python",
   "nbconvert_exporter": "python",
   "pygments_lexer": "ipython3",
   "version": "3.11.4"
  }
 },
 "nbformat": 4,
 "nbformat_minor": 5
}
